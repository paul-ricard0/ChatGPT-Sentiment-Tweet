{
 "cells": [
  {
   "cell_type": "code",
   "execution_count": 22,
   "metadata": {},
   "outputs": [],
   "source": [
    "import os, dotenv\n",
    "import json\n",
    "import openai\n",
    "import string"
   ]
  },
  {
   "cell_type": "code",
   "execution_count": 7,
   "metadata": {},
   "outputs": [
    {
     "name": "stdout",
     "output_type": "stream",
     "text": [
      "\n",
      "Positivo.\n",
      "['Positivo']\n"
     ]
    },
    {
     "data": {
      "text/plain": [
       "'Positivo'"
      ]
     },
     "execution_count": 7,
     "metadata": {},
     "output_type": "execute_result"
    }
   ],
   "source": [
    "dotenv.load_dotenv()\n",
    "openai.api_key = os.getenv(\"OPENAI_API_KEY\")\n",
    "\n",
    "\n",
    "texto = \"\"\"\n",
    "\n",
    "Os apoiadores de Bolsonaro destacam suas políticas de segurança pública e economia liberal como positivas para o país\n",
    "\n",
    "\"\"\"\n",
    "prompt = \"Responda em ÚNICA palavra, sendo positivo, negativo ou neutro o sentimento contidono seguinte texto: \" + texto\n",
    "\n",
    "response = openai.Completion.create(\n",
    "    model=\"text-davinci-003\",\n",
    "    prompt= prompt,\n",
    "    temperature=1,\n",
    "    max_tokens= 35,\n",
    "    n=1, \n",
    "    stop=None \n",
    ")\n",
    "\n",
    "# Passo 1: Pegando response a resposta \n",
    "choices = response[\"choices\"][0] \n",
    "data_dict = json.loads(str(choices))\n",
    "resposta = data_dict['text']\n",
    "print(resposta)\n",
    "\n",
    "# Passo 2: Remove pontos e vírgulas\n",
    "tabela_punctuation = str.maketrans('', '', string.punctuation)\n",
    "frase_sem_pontuacao = resposta.translate(tabela_punctuation)\n",
    "\n",
    "# Passo 3: Transformando a frase em uma lista com base no espaço entre as palavras\n",
    "tokens = frase_sem_pontuacao.strip().split()\n",
    "print(tokens)\n",
    "\n",
    "# Passo 4: Seleção de palavras-chave\n",
    "palavras_chave = ['neutro', 'positivo', 'negativo']\n",
    "palavras_selecionadas = [token for token in tokens if token.lower() in palavras_chave]\n",
    "\n",
    "# Passo 5: Juntar as palavras selecionadas\n",
    "sentimento = ''.join(palavras_selecionadas)\n",
    "sentimento"
   ]
  },
  {
   "cell_type": "code",
   "execution_count": 7,
   "metadata": {},
   "outputs": [],
   "source": [
    "import pandas as pd \n",
    "\n",
    "path = r'C:\\Users\\paulo\\Documentos\\P-Ricardo\\Faculdade\\GepIA\\Scripts\\API-CHATGPT\\tweetdata20220823.csv'\n",
    "\n",
    "df = pd.read_csv(path, delimiter=';')\n",
    "df_tweet = pd.DataFrame(df['text']) \n",
    "df_tweet = df_tweet.head(5)['text']\n"
   ]
  },
  {
   "cell_type": "code",
   "execution_count": 23,
   "metadata": {},
   "outputs": [
    {
     "name": "stdout",
     "output_type": "stream",
     "text": [
      "\n",
      "\n",
      "Negativo.\n",
      "['Negativo']\n",
      "\n",
      "\n",
      "Neutro.\n",
      "['Neutro']\n",
      "\n",
      "\n",
      "Negativo.\n",
      "['Negativo']\n",
      "\n",
      "\n",
      "Neutro\n",
      "['Neutro']\n",
      "\n",
      "\n",
      "Neutro\n",
      "['Neutro']\n"
     ]
    }
   ],
   "source": [
    "for f in df_tweet:\n",
    "    dotenv.load_dotenv()\n",
    "    openai.api_key = os.getenv(\"OPENAI_API_KEY\")\n",
    "    \n",
    "    texto = f\n",
    "    prompt = \"Responda em ÚNICA palavra, sendo positivo, negativo ou neutro o sentimento contidono seguinte texto: \" + texto\n",
    "\n",
    "    response = openai.Completion.create(\n",
    "        model=\"text-davinci-003\",\n",
    "        prompt= prompt,\n",
    "        temperature=1,\n",
    "        max_tokens= 35,\n",
    "        n=1, \n",
    "        stop=None \n",
    "    )\n",
    "\n",
    "    # Passo 1: Pegando response a resposta \n",
    "    choices = response[\"choices\"][0] \n",
    "    data_dict = json.loads(str(choices))\n",
    "    resposta = data_dict['text']\n",
    "    print(resposta)\n",
    "\n",
    "    # Passo 2: Remove pontos e vírgulas\n",
    "    tabela_punctuation = str.maketrans('', '', string.punctuation)\n",
    "    frase_sem_pontuacao = resposta.translate(tabela_punctuation)\n",
    "\n",
    "    # Passo 3: Transformando a frase em uma lista com base no espaço entre as palavras\n",
    "    tokens = frase_sem_pontuacao.strip().split()\n",
    "    print(tokens)\n",
    "\n",
    "    # Passo 4: Seleção de palavras-chave\n",
    "    palavras_chave = ['neutro', 'positivo', 'negativo']\n",
    "    palavras_selecionadas = [token for token in tokens if token.lower() in palavras_chave]\n",
    "\n",
    "    # Passo 5: Juntar as palavras selecionadas\n",
    "    sentimento = ''.join(palavras_selecionadas)\n",
    "    sentimento"
   ]
  },
  {
   "cell_type": "code",
   "execution_count": 12,
   "metadata": {},
   "outputs": [],
   "source": []
  }
 ],
 "metadata": {
  "kernelspec": {
   "display_name": "my_env",
   "language": "python",
   "name": "python3"
  },
  "language_info": {
   "codemirror_mode": {
    "name": "ipython",
    "version": 3
   },
   "file_extension": ".py",
   "mimetype": "text/x-python",
   "name": "python",
   "nbconvert_exporter": "python",
   "pygments_lexer": "ipython3",
   "version": "3.11.0"
  },
  "orig_nbformat": 4
 },
 "nbformat": 4,
 "nbformat_minor": 2
}
